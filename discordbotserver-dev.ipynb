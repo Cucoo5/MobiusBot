{
 "cells": [
  {
   "cell_type": "code",
   "execution_count": null,
   "metadata": {
    "scrolled": true
   },
   "outputs": [
    {
     "name": "stdout",
     "output_type": "stream",
     "text": [
      "Initializing...\n",
      "Initialization Complete.\n",
      "Master Command List: ['shutdown']\n",
      "Logged in as\n",
      "derpbot1\n",
      "443047122615664655\n",
      "Running Version:  v0.10\n",
      "--------------------------\n"
     ]
    },
    {
     "name": "stderr",
     "output_type": "stream",
     "text": [
      "Ignoring exception in on_message\n",
      "Traceback (most recent call last):\n",
      "  File \"C:\\Users\\mwyoo\\Google Drive\\Michael's Documents\\Coding Projects\\Game\\Mobius - Dev\\Bot\\Mobiusbot.py\", line 150, in on_message\n",
      "    for output in outputhandler(output):\n",
      "  File \"C:\\Users\\mwyoo\\Google Drive\\Michael's Documents\\Coding Projects\\Game\\Mobius - Dev\\Bot\\Mobiusbot.py\", line 78, in outputhandler\n",
      "    outsys,command=fn.unpackoutput(output)\n",
      "  File \"C:\\Users\\mwyoo\\Google Drive\\Michael's Documents\\Coding Projects\\Game\\Mobius - Dev\\Bot\\functions.py\", line 222, in unpackoutput\n",
      "    command.append(line[1])\n",
      "IndexError: list index out of range\n",
      "\n",
      "During handling of the above exception, another exception occurred:\n",
      "\n",
      "Traceback (most recent call last):\n",
      "  File \"C:\\Anaconda\\Anaconda3\\lib\\site-packages\\discord\\client.py\", line 307, in _run_event\n",
      "    yield from getattr(self, event)(*args, **kwargs)\n",
      "  File \"C:\\Users\\mwyoo\\Google Drive\\Michael's Documents\\Coding Projects\\Game\\Mobius - Dev\\Bot\\Mobiusbot.py\", line 155, in on_message\n",
      "    output=errlog.errormsg()\n",
      "  File \"C:\\Users\\mwyoo\\Google Drive\\Michael's Documents\\Coding Projects\\Game\\Mobius - Dev\\Bot\\functions.py\", line 135, in errormsg\n",
      "    output=outputconstructor(self.client,\"string\",master,msg2,output=output)\n",
      "UnboundLocalError: local variable 'master' referenced before assignment\n"
     ]
    }
   ],
   "source": [
    "from Bot import Mobiusbot"
   ]
  },
  {
   "cell_type": "code",
   "execution_count": null,
   "metadata": {
    "collapsed": true
   },
   "outputs": [],
   "source": []
  }
 ],
 "metadata": {
  "kernelspec": {
   "display_name": "Python 3",
   "language": "python",
   "name": "python3"
  },
  "language_info": {
   "codemirror_mode": {
    "name": "ipython",
    "version": 3
   },
   "file_extension": ".py",
   "mimetype": "text/x-python",
   "name": "python",
   "nbconvert_exporter": "python",
   "pygments_lexer": "ipython3",
   "version": "3.6.1"
  }
 },
 "nbformat": 4,
 "nbformat_minor": 2
}
