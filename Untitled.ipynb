{
 "cells": [
  {
   "cell_type": "code",
   "execution_count": 19,
   "metadata": {},
   "outputs": [],
   "source": [
    "import discord\n",
    "import ast\n",
    "import os\n",
    "import glob\n",
    "import pickle as pk\n",
    "from time import localtime, strftime\n",
    "import sys, traceback\n",
    "import asyncio\n",
    "import sys, traceback\n",
    "from datetime import datetime, timedelta, date, time\n",
    "from os.path import getmtime\n",
    "\n",
    "from Bot import functions as fn"
   ]
  },
  {
   "cell_type": "code",
   "execution_count": 24,
   "metadata": {},
   "outputs": [],
   "source": [
    "r=range(1,11)\n",
    "start='./'\n",
    "end='desktop.ini'\n",
    "middle='*/'"
   ]
  },
  {
   "cell_type": "code",
   "execution_count": 31,
   "metadata": {},
   "outputs": [],
   "source": [
    "allfiles=[]\n",
    "\n",
    "for n in r:\n",
    "    dir1=start+middle*n+end\n",
    "    list_of_ini=glob.glob(dir1)\n",
    "    if len(list_of_ini) != 0:\n",
    "        for file in list_of_ini:\n",
    "            f=file.replace('\\\\','/')\n",
    "            allfiles.append(f)"
   ]
  },
  {
   "cell_type": "code",
   "execution_count": 32,
   "metadata": {},
   "outputs": [
    {
     "data": {
      "text/plain": [
       "[]"
      ]
     },
     "execution_count": 32,
     "metadata": {},
     "output_type": "execute_result"
    }
   ],
   "source": [
    "allfiles"
   ]
  },
  {
   "cell_type": "code",
   "execution_count": 30,
   "metadata": {},
   "outputs": [],
   "source": [
    "for file in allfiles:\n",
    "    os.remove(file)"
   ]
  },
  {
   "cell_type": "code",
   "execution_count": null,
   "metadata": {},
   "outputs": [],
   "source": []
  },
  {
   "cell_type": "code",
   "execution_count": 39,
   "metadata": {},
   "outputs": [
    {
     "name": "stdout",
     "output_type": "stream",
     "text": [
      "1525030105.872276\n",
      "[('./Mobius_logs/Logs_Messages\\\\2018-11-01 18-58-29_bot_testing_Cucoo5.pkl', 1541113112.0), ('./Mobius_logs/Logs_Messages\\\\2018-11-01 19-15-13_bot_testing_Cucoo5.pkl', 1541114113.029051), ('./Mobius_logs/Logs_Messages\\\\2018-11-01 19-15-22_bot_testing_Cucoo5.pkl', 1541114122.700276), ('./Mobius_logs/Logs_Messages\\\\2018-11-01 19-15-27_bot_testing_Cucoo5.pkl', 1541114127.563039)]\n"
     ]
    }
   ],
   "source": [
    "date = datetime.today() - timedelta(days=187)\n",
    "print(date.timestamp())\n",
    "list_of_logs = glob.glob('./Mobius_logs/Logs_Messages/*.pkl')\n",
    "logsMTimes = [(f,getmtime(f)) for f in list_of_logs]\n",
    "print(logsMTimes)"
   ]
  },
  {
   "cell_type": "code",
   "execution_count": 42,
   "metadata": {},
   "outputs": [
    {
     "name": "stdout",
     "output_type": "stream",
     "text": [
      "True\n",
      "True\n",
      "True\n",
      "True\n"
     ]
    }
   ],
   "source": [
    "for f,t in logsMTimes:\n",
    "    print(float(t)>date.timestamp())"
   ]
  },
  {
   "cell_type": "code",
   "execution_count": 2,
   "metadata": {},
   "outputs": [],
   "source": [
    "date1 = datetime.today()"
   ]
  },
  {
   "cell_type": "code",
   "execution_count": 3,
   "metadata": {},
   "outputs": [
    {
     "data": {
      "text/plain": [
       "datetime.datetime(2018, 11, 13, 19, 27, 46, 278617)"
      ]
     },
     "execution_count": 3,
     "metadata": {},
     "output_type": "execute_result"
    }
   ],
   "source": [
    "date1"
   ]
  },
  {
   "cell_type": "code",
   "execution_count": 13,
   "metadata": {},
   "outputs": [],
   "source": [
    "date2 = date3+timedelta(days=1)"
   ]
  },
  {
   "cell_type": "code",
   "execution_count": 14,
   "metadata": {},
   "outputs": [
    {
     "data": {
      "text/plain": [
       "datetime.date(2018, 11, 14)"
      ]
     },
     "execution_count": 14,
     "metadata": {},
     "output_type": "execute_result"
    }
   ],
   "source": [
    "date2"
   ]
  },
  {
   "cell_type": "code",
   "execution_count": 12,
   "metadata": {},
   "outputs": [],
   "source": [
    "date3=date(date1.year,date1.month,date1.day)"
   ]
  },
  {
   "cell_type": "code",
   "execution_count": 21,
   "metadata": {},
   "outputs": [],
   "source": [
    "time3=time(hour=0)"
   ]
  },
  {
   "cell_type": "code",
   "execution_count": 24,
   "metadata": {},
   "outputs": [],
   "source": [
    "date4=datetime.combine(date2,time3)"
   ]
  },
  {
   "cell_type": "code",
   "execution_count": 25,
   "metadata": {},
   "outputs": [],
   "source": [
    "timeto=date4-date1"
   ]
  },
  {
   "cell_type": "code",
   "execution_count": 30,
   "metadata": {},
   "outputs": [
    {
     "data": {
      "text/plain": [
       "datetime.timedelta(0, 16333, 721383)"
      ]
     },
     "execution_count": 30,
     "metadata": {},
     "output_type": "execute_result"
    }
   ],
   "source": [
    "timeto"
   ]
  },
  {
   "cell_type": "code",
   "execution_count": 33,
   "metadata": {},
   "outputs": [],
   "source": [
    "midnight=datetime.combine(date.today()+timedelta(days=1),time(hour=0))"
   ]
  },
  {
   "cell_type": "code",
   "execution_count": 34,
   "metadata": {},
   "outputs": [
    {
     "data": {
      "text/plain": [
       "datetime.datetime(2018, 11, 14, 0, 0)"
      ]
     },
     "execution_count": 34,
     "metadata": {},
     "output_type": "execute_result"
    }
   ],
   "source": []
  },
  {
   "cell_type": "code",
   "execution_count": 107,
   "metadata": {},
   "outputs": [],
   "source": [
    "currenttime = datetime.today()\n",
    "midnight=datetime.combine(date.today()+timedelta(days=1),time(hour=0))\n",
    "timetomidnight=midnight-currenttime\n",
    "secondstomidnight=timetomidnight.seconds"
   ]
  },
  {
   "cell_type": "code",
   "execution_count": 108,
   "metadata": {},
   "outputs": [
    {
     "data": {
      "text/plain": [
       "'3:40:28.583551'"
      ]
     },
     "execution_count": 108,
     "metadata": {},
     "output_type": "execute_result"
    }
   ],
   "source": [
    "str(timetomidnight)"
   ]
  },
  {
   "cell_type": "code",
   "execution_count": 109,
   "metadata": {},
   "outputs": [
    {
     "data": {
      "text/plain": [
       "31"
      ]
     },
     "execution_count": 109,
     "metadata": {},
     "output_type": "execute_result"
    }
   ],
   "source": [
    "currenttime.second"
   ]
  },
  {
   "cell_type": "code",
   "execution_count": 110,
   "metadata": {},
   "outputs": [],
   "source": [
    "warningtimes={\"minutes\":(1,5,10,30),\"hours\":(1,5,10)}"
   ]
  },
  {
   "cell_type": "code",
   "execution_count": 111,
   "metadata": {},
   "outputs": [
    {
     "data": {
      "text/plain": [
       "3600"
      ]
     },
     "execution_count": 111,
     "metadata": {},
     "output_type": "execute_result"
    }
   ],
   "source": [
    "timedelta(hours=warningtimes[\"hours\"][0]).seconds"
   ]
  },
  {
   "cell_type": "code",
   "execution_count": null,
   "metadata": {},
   "outputs": [],
   "source": []
  },
  {
   "cell_type": "code",
   "execution_count": 112,
   "metadata": {},
   "outputs": [],
   "source": [
    "warningtimedeltas=[]\n",
    "for key,value in warningtimes.items():\n",
    "    if key == \"minutes\":\n",
    "        for minute in value:\n",
    "            timed=timedelta(minutes=minute)\n",
    "            warningtimedeltas.append(timed)\n",
    "    elif key == \"hours\":\n",
    "        for hour in value:\n",
    "            timed=timedelta(hours=hour)\n",
    "            warningtimedeltas.append(timed)\n",
    "        "
   ]
  },
  {
   "cell_type": "code",
   "execution_count": 113,
   "metadata": {},
   "outputs": [],
   "source": [
    "warningtimedeltas.sort(reverse=True)"
   ]
  },
  {
   "cell_type": "code",
   "execution_count": 114,
   "metadata": {},
   "outputs": [
    {
     "name": "stdout",
     "output_type": "stream",
     "text": [
      "10:00:00\n",
      "5:00:00\n",
      "1:00:00\n",
      "2:40:28.583551\n"
     ]
    }
   ],
   "source": [
    "waittime=0\n",
    "for timed in warningtimedeltas:\n",
    "    print(timed)\n",
    "    if timetomidnight>=timed:\n",
    "        timeto=timetomidnight-timed\n",
    "        print(timeto)\n",
    "        waittime=timeto.seconds\n",
    "        break"
   ]
  },
  {
   "cell_type": "code",
   "execution_count": 115,
   "metadata": {},
   "outputs": [
    {
     "data": {
      "text/plain": [
       "datetime.timedelta(0, 60)"
      ]
     },
     "execution_count": 115,
     "metadata": {},
     "output_type": "execute_result"
    }
   ],
   "source": []
  },
  {
   "cell_type": "code",
   "execution_count": null,
   "metadata": {},
   "outputs": [],
   "source": []
  }
 ],
 "metadata": {
  "kernelspec": {
   "display_name": "Python 3",
   "language": "python",
   "name": "python3"
  },
  "language_info": {
   "codemirror_mode": {
    "name": "ipython",
    "version": 3
   },
   "file_extension": ".py",
   "mimetype": "text/x-python",
   "name": "python",
   "nbconvert_exporter": "python",
   "pygments_lexer": "ipython3",
   "version": "3.6.6"
  }
 },
 "nbformat": 4,
 "nbformat_minor": 2
}
