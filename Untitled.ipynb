{
 "cells": [
  {
   "cell_type": "code",
   "execution_count": 1,
   "metadata": {},
   "outputs": [],
   "source": [
    "import discord\n",
    "import ast\n",
    "import os\n",
    "import glob\n",
    "import pickle as pk\n",
    "from time import localtime, strftime\n",
    "import sys, traceback\n",
    "import asyncio\n",
    "\n",
    "from Bot import functions as fn"
   ]
  },
  {
   "cell_type": "code",
   "execution_count": 34,
   "metadata": {},
   "outputs": [],
   "source": [
    "datetime = fn.get_time()\n",
    "time=datetime.split()[1]"
   ]
  },
  {
   "cell_type": "code",
   "execution_count": 18,
   "metadata": {},
   "outputs": [],
   "source": [
    "time='21-05-54'"
   ]
  },
  {
   "cell_type": "code",
   "execution_count": 11,
   "metadata": {},
   "outputs": [],
   "source": [
    "tlist=time.split('-')"
   ]
  },
  {
   "cell_type": "code",
   "execution_count": 37,
   "metadata": {},
   "outputs": [],
   "source": [
    "hour=int(tlist[0])\n",
    "minute=int(tlist[1])\n",
    "second=int(tlist[2])"
   ]
  },
  {
   "cell_type": "code",
   "execution_count": 38,
   "metadata": {},
   "outputs": [],
   "source": [
    "hours=24-hour\n",
    "minutes=0-minute\n",
    "seconds=0-second"
   ]
  },
  {
   "cell_type": "code",
   "execution_count": 39,
   "metadata": {},
   "outputs": [],
   "source": [
    "secondstomid=hours*3600+minutes*60+seconds"
   ]
  },
  {
   "cell_type": "code",
   "execution_count": 40,
   "metadata": {},
   "outputs": [
    {
     "data": {
      "text/plain": [
       "10443"
      ]
     },
     "execution_count": 40,
     "metadata": {},
     "output_type": "execute_result"
    }
   ],
   "source": [
    "secondstomid"
   ]
  },
  {
   "cell_type": "code",
   "execution_count": 22,
   "metadata": {},
   "outputs": [],
   "source": [
    "# find wait time to midnight\n",
    "datetime = fn.get_time()\n",
    "time=datetime.split()[1]\n",
    "tlist=time.split('-')\n",
    "\n",
    "#time components converted to seconds\n",
    "hour=int(tlist[0])*3600\n",
    "minute=int(tlist[1])*60\n",
    "second=int(tlist[2])\n",
    "timesum=hour+minute+second\n",
    "midnight=24*3600\n",
    "waittime=midnight-timesum"
   ]
  },
  {
   "cell_type": "code",
   "execution_count": 23,
   "metadata": {},
   "outputs": [
    {
     "data": {
      "text/plain": [
       "6836"
      ]
     },
     "execution_count": 23,
     "metadata": {},
     "output_type": "execute_result"
    }
   ],
   "source": [
    "waittime"
   ]
  },
  {
   "cell_type": "code",
   "execution_count": 26,
   "metadata": {},
   "outputs": [],
   "source": [
    "# registered user object list\n",
    "usrlst={}\n",
    "\n",
    "#get user object files\n",
    "list_of_users = glob.glob('./Mobius_Users/*/*.pkl')\n",
    "for file in list_of_users:\n",
    "    f=file.replace('\\\\','/')\n",
    "    with open(f,\"rb\") as load:\n",
    "        user = pk.load(load)\n",
    "    usr=fn.packuserinfo(user)\n",
    "    userinfo=usr['string']\n",
    "    usrlst[userinfo]=usr"
   ]
  },
  {
   "cell_type": "code",
   "execution_count": 27,
   "metadata": {},
   "outputs": [
    {
     "data": {
      "text/plain": [
       "{'Cucoo54871_264944731346305030': {'string': 'Cucoo54871_264944731346305030',\n",
       "  'folder': './Mobius_Users/Cucoo54871_264944731346305030',\n",
       "  'object': './Mobius_Users/Cucoo54871_264944731346305030/userinfo_Cucoo54871_264944731346305030.pkl'},\n",
       " 'Mobius Bot4811_443058935784669194': {'string': 'Mobius Bot4811_443058935784669194',\n",
       "  'folder': './Mobius_Users/Mobius Bot4811_443058935784669194',\n",
       "  'object': './Mobius_Users/Mobius Bot4811_443058935784669194/userinfo_Mobius Bot4811_443058935784669194.pkl'},\n",
       " 'PsychoSustic9930_195871612623519744': {'string': 'PsychoSustic9930_195871612623519744',\n",
       "  'folder': './Mobius_Users/PsychoSustic9930_195871612623519744',\n",
       "  'object': './Mobius_Users/PsychoSustic9930_195871612623519744/userinfo_PsychoSustic9930_195871612623519744.pkl'},\n",
       " 'Tewi6963_168909421064355842': {'string': 'Tewi6963_168909421064355842',\n",
       "  'folder': './Mobius_Users/Tewi6963_168909421064355842',\n",
       "  'object': './Mobius_Users/Tewi6963_168909421064355842/userinfo_Tewi6963_168909421064355842.pkl'}}"
      ]
     },
     "execution_count": 27,
     "metadata": {},
     "output_type": "execute_result"
    }
   ],
   "source": [
    "usrlst"
   ]
  },
  {
   "cell_type": "code",
   "execution_count": 28,
   "metadata": {},
   "outputs": [],
   "source": [
    "master=fn.getmasterobj()"
   ]
  },
  {
   "cell_type": "code",
   "execution_count": 29,
   "metadata": {},
   "outputs": [
    {
     "data": {
      "text/plain": [
       "<discord.user.User at 0x3706de0>"
      ]
     },
     "execution_count": 29,
     "metadata": {},
     "output_type": "execute_result"
    }
   ],
   "source": [
    "master"
   ]
  },
  {
   "cell_type": "code",
   "execution_count": 30,
   "metadata": {},
   "outputs": [],
   "source": [
    "usr=fn.packuserinfo(master)\n",
    "userinfo=usr['string']\n",
    "usrlst[userinfo]=usr"
   ]
  },
  {
   "cell_type": "code",
   "execution_count": 34,
   "metadata": {},
   "outputs": [],
   "source": [
    "usrlst[userinfo]['object']=master"
   ]
  },
  {
   "cell_type": "code",
   "execution_count": 35,
   "metadata": {},
   "outputs": [
    {
     "data": {
      "text/plain": [
       "{'string': 'Cucoo54871_264944731346305030',\n",
       " 'folder': './Mobius_Users/Cucoo54871_264944731346305030',\n",
       " 'object': <discord.user.User at 0x3706de0>}"
      ]
     },
     "execution_count": 35,
     "metadata": {},
     "output_type": "execute_result"
    }
   ],
   "source": [
    "usrlst[userinfo]"
   ]
  },
  {
   "cell_type": "code",
   "execution_count": 36,
   "metadata": {},
   "outputs": [
    {
     "data": {
      "text/plain": [
       "{'Cucoo54871_264944731346305030': {'string': 'Cucoo54871_264944731346305030',\n",
       "  'folder': './Mobius_Users/Cucoo54871_264944731346305030',\n",
       "  'object': <discord.user.User at 0x3706de0>},\n",
       " 'Mobius Bot4811_443058935784669194': {'string': 'Mobius Bot4811_443058935784669194',\n",
       "  'folder': './Mobius_Users/Mobius Bot4811_443058935784669194',\n",
       "  'object': './Mobius_Users/Mobius Bot4811_443058935784669194/userinfo_Mobius Bot4811_443058935784669194.pkl'},\n",
       " 'PsychoSustic9930_195871612623519744': {'string': 'PsychoSustic9930_195871612623519744',\n",
       "  'folder': './Mobius_Users/PsychoSustic9930_195871612623519744',\n",
       "  'object': './Mobius_Users/PsychoSustic9930_195871612623519744/userinfo_PsychoSustic9930_195871612623519744.pkl'},\n",
       " 'Tewi6963_168909421064355842': {'string': 'Tewi6963_168909421064355842',\n",
       "  'folder': './Mobius_Users/Tewi6963_168909421064355842',\n",
       "  'object': './Mobius_Users/Tewi6963_168909421064355842/userinfo_Tewi6963_168909421064355842.pkl'}}"
      ]
     },
     "execution_count": 36,
     "metadata": {},
     "output_type": "execute_result"
    }
   ],
   "source": [
    "usrlst"
   ]
  },
  {
   "cell_type": "code",
   "execution_count": null,
   "metadata": {},
   "outputs": [],
   "source": []
  }
 ],
 "metadata": {
  "kernelspec": {
   "display_name": "Python 3",
   "language": "python",
   "name": "python3"
  },
  "language_info": {
   "codemirror_mode": {
    "name": "ipython",
    "version": 3
   },
   "file_extension": ".py",
   "mimetype": "text/x-python",
   "name": "python",
   "nbconvert_exporter": "python",
   "pygments_lexer": "ipython3",
   "version": "3.6.6"
  }
 },
 "nbformat": 4,
 "nbformat_minor": 2
}
