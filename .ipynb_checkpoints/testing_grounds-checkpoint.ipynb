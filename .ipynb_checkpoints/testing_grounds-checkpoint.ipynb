{
 "cells": [
  {
   "cell_type": "code",
   "execution_count": 2,
   "metadata": {
    "collapsed": true
   },
   "outputs": [],
   "source": [
    "import discord\n",
    "import pickle as pk\n",
    "import sys, traceback\n",
    "import os"
   ]
  },
  {
   "cell_type": "code",
   "execution_count": 2,
   "metadata": {
    "collapsed": true
   },
   "outputs": [],
   "source": [
    "masterinfo={'username': 'Cucoo5', 'id': '264944731346305030', 'discriminator': '4871'}\n",
    "master=discord.User(username=masterinfo[\"username\"],id=masterinfo[\"id\"],discriminator=masterinfo[\"discriminator\"])"
   ]
  },
  {
   "cell_type": "code",
   "execution_count": 7,
   "metadata": {},
   "outputs": [
    {
     "ename": "FileNotFoundError",
     "evalue": "[Errno 2] No such file or directory: './Mobius/Info/test1/masterinfo.pkl'",
     "output_type": "error",
     "traceback": [
      "\u001b[1;31m---------------------------------------------------------------------------\u001b[0m",
      "\u001b[1;31mFileNotFoundError\u001b[0m                         Traceback (most recent call last)",
      "\u001b[1;32m<ipython-input-7-d414a565c7d8>\u001b[0m in \u001b[0;36m<module>\u001b[1;34m()\u001b[0m\n\u001b[1;32m----> 1\u001b[1;33m \u001b[1;32mwith\u001b[0m \u001b[0mopen\u001b[0m\u001b[1;33m(\u001b[0m\u001b[1;34m\"./Mobius/Info/test1/masterinfo.pkl\"\u001b[0m\u001b[1;33m,\u001b[0m\u001b[1;34m\"wb\"\u001b[0m\u001b[1;33m)\u001b[0m \u001b[1;32mas\u001b[0m \u001b[0msave\u001b[0m\u001b[1;33m:\u001b[0m\u001b[1;33m\u001b[0m\u001b[0m\n\u001b[0m\u001b[0;32m      2\u001b[0m     \u001b[0mpk\u001b[0m\u001b[1;33m.\u001b[0m\u001b[0mdump\u001b[0m\u001b[1;33m(\u001b[0m\u001b[0mmaster\u001b[0m\u001b[1;33m,\u001b[0m\u001b[0msave\u001b[0m\u001b[1;33m)\u001b[0m\u001b[1;33m\u001b[0m\u001b[0m\n",
      "\u001b[1;31mFileNotFoundError\u001b[0m: [Errno 2] No such file or directory: './Mobius/Info/test1/masterinfo.pkl'"
     ]
    }
   ],
   "source": [
    "with open(\"./Mobius/Info/test1/masterinfo.pkl\",\"wb\") as save:\n",
    "    pk.dump(master,save)"
   ]
  },
  {
   "cell_type": "code",
   "execution_count": 6,
   "metadata": {},
   "outputs": [
    {
     "name": "stdout",
     "output_type": "stream",
     "text": [
      "Cucoo5\n",
      "4871\n"
     ]
    }
   ],
   "source": [
    "with open(\"./Mobius/Info/test1/masterinfo.pkl\",\"rb\") as load:\n",
    "    master2 = pk.load(load)\n",
    "    print(master2.name)\n",
    "    print(master2.discriminator)"
   ]
  },
  {
   "cell_type": "code",
   "execution_count": 15,
   "metadata": {
    "collapsed": true
   },
   "outputs": [],
   "source": [
    "def exceptioncatcher():\n",
    "    exc_type, exc_value, exc_traceback = sys.exc_info()\n",
    "\n",
    "    errorinfo=traceback.format_exception(exc_type, exc_value, exc_traceback)\n",
    "\n",
    "    return errorinfo"
   ]
  },
  {
   "cell_type": "code",
   "execution_count": 18,
   "metadata": {
    "collapsed": true
   },
   "outputs": [],
   "source": [
    "try:\n",
    "    raise KeyError(\"Test fail\")\n",
    "except:\n",
    "    info=exceptioncatcher()"
   ]
  },
  {
   "cell_type": "code",
   "execution_count": 19,
   "metadata": {},
   "outputs": [
    {
     "data": {
      "text/plain": [
       "['Traceback (most recent call last):\\n',\n",
       " '  File \"<ipython-input-18-7db3edc72713>\", line 2, in <module>\\n    raise KeyError(\"Test fail\")\\n',\n",
       " \"KeyError: 'Test fail'\\n\"]"
      ]
     },
     "execution_count": 19,
     "metadata": {},
     "output_type": "execute_result"
    }
   ],
   "source": [
    "info"
   ]
  },
  {
   "cell_type": "code",
   "execution_count": 1,
   "metadata": {
    "scrolled": true
   },
   "outputs": [
    {
     "name": "stdout",
     "output_type": "stream",
     "text": [
      "Initializing...\n",
      "Initialization Complete.\n",
      "Master Command List: ['shutdown']\n",
      "Logged in as\n",
      "derpbot1\n",
      "443047122615664655\n",
      "Running Version:  v0.10\n",
      "--------------------------\n",
      "Logoff Command Received\n"
     ]
    }
   ],
   "source": [
    "from Bot import Mobiusbot"
   ]
  },
  {
   "cell_type": "code",
   "execution_count": 24,
   "metadata": {
    "collapsed": true
   },
   "outputs": [],
   "source": [
    "from Mobius.Apps.standby import basic_cmds"
   ]
  },
  {
   "cell_type": "code",
   "execution_count": 2,
   "metadata": {
    "scrolled": true
   },
   "outputs": [
    {
     "name": "stdout",
     "output_type": "stream",
     "text": [
      "Traceback (most recent call last):\n",
      "\n",
      "  File \"C:\\Users\\mwyoo\\Google Drive\\Michael's Documents\\Coding Projects\\Game\\Mobius\\Bot\\Mobiusbot.py\", line 129, in on_message\n",
      "    if usrnm in usractivelst:\n",
      "\n",
      "NameError: name 'usractivelst' is not defined\n",
      "\n"
     ]
    }
   ],
   "source": [
    "err=['Traceback (most recent call last):\\n', '  File \"C:\\\\Users\\\\mwyoo\\\\Google Drive\\\\Michael\\'s Documents\\\\Coding Projects\\\\Game\\\\Mobius\\\\Bot\\\\Mobiusbot.py\", line 129, in on_message\\n    if usrnm in usractivelst:\\n', \"NameError: name 'usractivelst' is not defined\\n\"]\n",
    "for line in err:\n",
    "    print(line)"
   ]
  },
  {
   "cell_type": "code",
   "execution_count": 3,
   "metadata": {
    "collapsed": true
   },
   "outputs": [],
   "source": [
    "from Bot import functions as fn\n",
    "userlist=open(\"./Mobius_logs/Logs_User/userlist.txt\",\"r\")\n",
    "usrlst={}\n",
    "for line in userlist:\n",
    "    userinfo=line.strip()\n",
    "    usr=fn.usrdict(userinfo)\n",
    "    usrlst[userinfo]=usr\n",
    "\n",
    "userlist.close()"
   ]
  },
  {
   "cell_type": "code",
   "execution_count": 7,
   "metadata": {},
   "outputs": [
    {
     "data": {
      "text/plain": [
       "['Cucoo54871_264944731346305030']"
      ]
     },
     "execution_count": 7,
     "metadata": {},
     "output_type": "execute_result"
    }
   ],
   "source": [
    "list(usrlst.keys())"
   ]
  },
  {
   "cell_type": "code",
   "execution_count": 3,
   "metadata": {},
   "outputs": [],
   "source": [
    "with open(\"./Mobius_logs/Logs_Messages/2018-05-26 15-34-34_bot_testing_Cucoo5.pkl\",\"rb\") as load:\n",
    "    msg=pk.load(load)"
   ]
  },
  {
   "cell_type": "code",
   "execution_count": 9,
   "metadata": {},
   "outputs": [
    {
     "data": {
      "text/plain": [
       "'2018-05-26 15:34:35.631000'"
      ]
     },
     "execution_count": 9,
     "metadata": {},
     "output_type": "execute_result"
    }
   ],
   "source": [
    "str(msg.timestamp)"
   ]
  },
  {
   "cell_type": "code",
   "execution_count": null,
   "metadata": {
    "collapsed": true
   },
   "outputs": [],
   "source": []
  }
 ],
 "metadata": {
  "kernelspec": {
   "display_name": "Python 3",
   "language": "python",
   "name": "python3"
  },
  "language_info": {
   "codemirror_mode": {
    "name": "ipython",
    "version": 3
   },
   "file_extension": ".py",
   "mimetype": "text/x-python",
   "name": "python",
   "nbconvert_exporter": "python",
   "pygments_lexer": "ipython3",
   "version": "3.6.1"
  }
 },
 "nbformat": 4,
 "nbformat_minor": 2
}
