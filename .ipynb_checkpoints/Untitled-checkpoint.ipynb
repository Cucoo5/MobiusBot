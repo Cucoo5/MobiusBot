{
 "cells": [
  {
   "cell_type": "code",
   "execution_count": 1,
   "metadata": {},
   "outputs": [],
   "source": [
    "import discord\n",
    "import ast\n",
    "import os\n",
    "import glob\n",
    "import pickle as pk\n",
    "from time import localtime, strftime\n",
    "import sys, traceback\n",
    "import asyncio\n",
    "\n",
    "from Bot import functions as fn"
   ]
  },
  {
   "cell_type": "code",
   "execution_count": 19,
   "metadata": {},
   "outputs": [],
   "source": [
    "r=range(1,6)\n",
    "start='./'\n",
    "end='desktop.ini'\n",
    "middle='*/'"
   ]
  },
  {
   "cell_type": "code",
   "execution_count": 20,
   "metadata": {},
   "outputs": [
    {
     "data": {
      "text/plain": [
       "'*/'"
      ]
     },
     "execution_count": 20,
     "metadata": {},
     "output_type": "execute_result"
    }
   ],
   "source": [
    "middle*1"
   ]
  },
  {
   "cell_type": "code",
   "execution_count": 21,
   "metadata": {},
   "outputs": [],
   "source": [
    "allfiles=[]\n",
    "\n",
    "for n in r:\n",
    "    dir1=start+middle*n+end\n",
    "    list_of_ini=glob.glob(dir1)\n",
    "    if len(list_of_ini) != 0:\n",
    "        for file in list_of_ini:\n",
    "            allfiles.append(file)"
   ]
  },
  {
   "cell_type": "code",
   "execution_count": 12,
   "metadata": {},
   "outputs": [],
   "source": [
    "list_of_ini=glob.glob('./*/desktop.ini')"
   ]
  },
  {
   "cell_type": "code",
   "execution_count": 13,
   "metadata": {},
   "outputs": [
    {
     "data": {
      "text/plain": [
       "['.\\\\Mobius_Users\\\\Cucoo54871_264944731346305030\\\\desktop.ini',\n",
       " '.\\\\Mobius_Users\\\\Kristia1488_266429765949325313\\\\desktop.ini',\n",
       " '.\\\\Mobius_Users\\\\Mobius Bot4811_443058935784669194\\\\desktop.ini',\n",
       " '.\\\\Mobius_Users\\\\PsychoSustic9930_195871612623519744\\\\desktop.ini',\n",
       " '.\\\\Mobius_Users\\\\Snowyvaan4047_206906598495485952\\\\desktop.ini',\n",
       " '.\\\\Mobius_Users\\\\Tewi6963_168909421064355842\\\\desktop.ini']"
      ]
     },
     "execution_count": 13,
     "metadata": {},
     "output_type": "execute_result"
    }
   ],
   "source": [
    "list_of_ini"
   ]
  },
  {
   "cell_type": "code",
   "execution_count": null,
   "metadata": {},
   "outputs": [],
   "source": []
  }
 ],
 "metadata": {
  "kernelspec": {
   "display_name": "Python 3",
   "language": "python",
   "name": "python3"
  },
  "language_info": {
   "codemirror_mode": {
    "name": "ipython",
    "version": 3
   },
   "file_extension": ".py",
   "mimetype": "text/x-python",
   "name": "python",
   "nbconvert_exporter": "python",
   "pygments_lexer": "ipython3",
   "version": "3.6.6"
  }
 },
 "nbformat": 4,
 "nbformat_minor": 2
}
