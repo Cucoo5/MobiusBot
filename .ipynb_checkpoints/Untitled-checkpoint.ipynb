{
 "cells": [
  {
   "cell_type": "code",
   "execution_count": 110,
   "metadata": {},
   "outputs": [],
   "source": [
    "import discord\n",
    "import ast\n",
    "import os\n",
    "import glob\n",
    "import pickle as pk\n",
    "from time import localtime, strftime\n",
    "import sys, traceback\n",
    "import asyncio\n",
    "import sys, traceback\n",
    "from datetime import datetime, timedelta, date, time\n",
    "from os.path import getmtime\n",
    "\n",
    "from Bot import functions as fn"
   ]
  },
  {
   "cell_type": "code",
   "execution_count": 111,
   "metadata": {},
   "outputs": [],
   "source": [
    "usr=fn.getmasterobj()\n",
    "usrinfo=fn.packuserinfo(usr)\n",
    "fldr=usrinfo[\"folder\"]"
   ]
  },
  {
   "cell_type": "code",
   "execution_count": 113,
   "metadata": {},
   "outputs": [
    {
     "name": "stdout",
     "output_type": "stream",
     "text": [
      "/downloads\n",
      "/downloads/desktop.in\n",
      "/downloads/ovJBrx2.jp\n",
      "/rpassistant\n",
      "/rpassistant/desktop.in\n",
      "/rpassistant/user_character\n",
      "/rpassistant/user_characters/chara\n",
      "/rpassistant/user_characters/chara1/desktop.in\n",
      "/rpassistant/user_characters/chara1/info.tx\n",
      "/rpassistant/user_characters/chara\n",
      "/rpassistant/user_characters/chara2/desktop.in\n",
      "/rpassistant/user_characters/chara2/info.tx\n",
      "/rpassistant/user_characters/desktop.in\n",
      "/rpassistant/user_reminder\n",
      "/rpassistant/user_reminders/desktop.in\n",
      "/rpassistant/user_rplis\n",
      "/rpassistant/user_rplist/desktop.in\n",
      "/rpassistant/user_summarie\n",
      "/rpassistant/user_summaries/desktop.in\n",
      "/rpassistant/user_todolist\n",
      "/rpassistant/user_todolists/desktop.in\n",
      "---------\n",
      "/downloads\n",
      "/rpassistant\n",
      "/rpassistant/user_characters\n",
      "/rpassistant/user_characters/chara1\n",
      "/rpassistant/user_characters/chara2\n",
      "/rpassistant/user_reminders\n",
      "/rpassistant/user_rplist\n",
      "/rpassistant/user_summaries\n",
      "/rpassistant/user_todolists\n",
      "---------\n",
      "/downloads/desktop.in\n",
      "/downloads/ovJBrx2.jp\n",
      "/rpassistant/desktop.in\n",
      "/rpassistant/user_character\n",
      "/rpassistant/user_characters/chara\n",
      "/rpassistant/user_characters/chara1/desktop.in\n",
      "/rpassistant/user_characters/chara1/info.tx\n",
      "/rpassistant/user_characters/chara\n",
      "/rpassistant/user_characters/chara2/desktop.in\n",
      "/rpassistant/user_characters/chara2/info.tx\n",
      "/rpassistant/user_characters/desktop.in\n",
      "/rpassistant/user_reminder\n",
      "/rpassistant/user_reminders/desktop.in\n",
      "/rpassistant/user_rplis\n",
      "/rpassistant/user_rplist/desktop.in\n",
      "/rpassistant/user_summarie\n",
      "/rpassistant/user_summaries/desktop.in\n",
      "/rpassistant/user_todolist\n",
      "/rpassistant/user_todolists/desktop.in\n"
     ]
    }
   ],
   "source": [
    "usrinfo=fn.packuserinfo(usr)\n",
    "fldr=usrinfo[\"folder\"]\n",
    "listoffldrs=[x[0].replace(\"\\\\\",\"/\").replace(fldr,\"\") for x in os.walk(fldr)]\n",
    "listoffldrs.remove(\"\")\n",
    "\n",
    "completelist=[x.replace(\"\\\\\",\"/\").replace(fldr,\"\") for x in glob.glob(fldr+\"/*/**\",recursive=True)]\n",
    "l2=[]\n",
    "for line in completelist:\n",
    "    if line[-1]==\"/\":\n",
    "        l2.append(line[:-1])\n",
    "    else:\n",
    "        l2.append(line)\n",
    "\n",
    "filelist=[x for x in l2 if x not in listoffldrs]\n",
    "for line in completelist:\n",
    "    print(line)\n",
    "print(\"---------\")  \n",
    "for line in listoffldrs:\n",
    "    print(line)\n",
    "print(\"---------\") \n",
    "for line in filelist:\n",
    "    print(line)"
   ]
  },
  {
   "cell_type": "code",
   "execution_count": 108,
   "metadata": {},
   "outputs": [],
   "source": [
    "fn=\"info.txt\"\n",
    "fldr=usrinfo[\"folder\"]\n",
    "f=glob.glob(fldr+\"/**/\"+fn,recursive=True)"
   ]
  },
  {
   "cell_type": "code",
   "execution_count": 80,
   "metadata": {},
   "outputs": [
    {
     "ename": "ValueError",
     "evalue": "Multiple Files Found in retrieval.",
     "output_type": "error",
     "traceback": [
      "\u001b[1;31m---------------------------------------------------------------------------\u001b[0m",
      "\u001b[1;31mValueError\u001b[0m                                Traceback (most recent call last)",
      "\u001b[1;32m<ipython-input-80-64c205d6bd55>\u001b[0m in \u001b[0;36m<module>\u001b[1;34m\u001b[0m\n\u001b[1;32m----> 1\u001b[1;33m \u001b[1;32mraise\u001b[0m \u001b[0mValueError\u001b[0m\u001b[1;33m(\u001b[0m\u001b[1;34m\"Multiple Files Found in retrieval.\"\u001b[0m\u001b[1;33m)\u001b[0m\u001b[1;33m\u001b[0m\u001b[0m\n\u001b[0m",
      "\u001b[1;31mValueError\u001b[0m: Multiple Files Found in retrieval."
     ]
    }
   ],
   "source": [
    "raise ValueError(\"Multiple Files Found in retrieval.\")"
   ]
  },
  {
   "cell_type": "code",
   "execution_count": null,
   "metadata": {},
   "outputs": [],
   "source": []
  }
 ],
 "metadata": {
  "kernelspec": {
   "display_name": "Python 3",
   "language": "python",
   "name": "python3"
  },
  "language_info": {
   "codemirror_mode": {
    "name": "ipython",
    "version": 3
   },
   "file_extension": ".py",
   "mimetype": "text/x-python",
   "name": "python",
   "nbconvert_exporter": "python",
   "pygments_lexer": "ipython3",
   "version": "3.6.6"
  }
 },
 "nbformat": 4,
 "nbformat_minor": 2
}
